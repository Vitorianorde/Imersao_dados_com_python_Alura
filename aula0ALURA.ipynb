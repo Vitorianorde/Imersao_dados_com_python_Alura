{
  "nbformat": 4,
  "nbformat_minor": 0,
  "metadata": {
    "colab": {
      "provenance": [],
      "authorship_tag": "ABX9TyMhwrWJrPveTA5z0Al5zCTc"
    },
    "kernelspec": {
      "name": "python3",
      "display_name": "Python 3"
    },
    "language_info": {
      "name": "python"
    }
  },
  "cells": [
    {
      "cell_type": "code",
      "execution_count": 12,
      "metadata": {
        "colab": {
          "base_uri": "https://localhost:8080/"
        },
        "id": "T2imaRLK3WJU",
        "outputId": "09790b4e-03b7-4f09-dc29-a36bbbdd6a58"
      },
      "outputs": [
        {
          "output_type": "stream",
          "name": "stdout",
          "text": [
            "Digite a idade:16\n",
            "Não pode digirir ):\n"
          ]
        }
      ],
      "source": [
        "idade = input('Digite a idade:')\n",
        "if int(idade) >= 18: # Convertendo a string para int antes da comparação\n",
        "  print(\"Pode Dirigir\")\n",
        "else:\n",
        "  print(\"Não pode digirir ):\")"
      ]
    },
    {
      "cell_type": "code",
      "source": [
        "idade = input('Digite a sua idade: ')\n",
        "if int (idade) >= 18:\n",
        "  print('Permitido tirar sua CNH')\n",
        "else:\n",
        "    print('Ainda não permitido tirar CNH!!')"
      ],
      "metadata": {
        "colab": {
          "base_uri": "https://localhost:8080/"
        },
        "id": "QbX9IBdQHeCA",
        "outputId": "1b6e27d7-a420-4db5-b93d-6c392223a9fd"
      },
      "execution_count": 17,
      "outputs": [
        {
          "output_type": "stream",
          "name": "stdout",
          "text": [
            "Digite a sua idade: 12\n",
            "Ainda não permitido tirar CNH!!\n"
          ]
        }
      ]
    }
  ]
}